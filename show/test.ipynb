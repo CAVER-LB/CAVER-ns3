{
 "cells": [
  {
   "cell_type": "code",
   "execution_count": 1,
   "metadata": {},
   "outputs": [
    {
     "name": "stdout",
     "output_type": "stream",
     "text": [
      "50.03460608\n",
      "3125.0\n",
      "401875\n",
      "12558.59375\n",
      "24414.0625\n"
     ]
    }
   ],
   "source": [
    "print(1221548 * 1.6 * (2**7) / (5000 * 1000))\n",
    "print(25000 / 8)\n",
    "print(3215 * 125)\n",
    "print(401875 / 32)\n",
    "\n",
    "# 分子：8 * (2^7) * alpha(0.2)\n",
    "# 分母：50 * 10^(-6) * 100 * 10^9\n",
    "print((5000 * 1000) / (8 * (2**7) * 0.2))"
   ]
  }
 ],
 "metadata": {
  "kernelspec": {
   "display_name": "teal",
   "language": "python",
   "name": "python3"
  },
  "language_info": {
   "codemirror_mode": {
    "name": "ipython",
    "version": 3
   },
   "file_extension": ".py",
   "mimetype": "text/x-python",
   "name": "python",
   "nbconvert_exporter": "python",
   "pygments_lexer": "ipython3",
   "version": "3.8.8"
  }
 },
 "nbformat": 4,
 "nbformat_minor": 2
}
